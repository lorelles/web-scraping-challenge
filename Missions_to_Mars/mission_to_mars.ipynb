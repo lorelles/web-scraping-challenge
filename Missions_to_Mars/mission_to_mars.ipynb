{
 "cells": [
  {
   "cell_type": "code",
   "execution_count": 1,
   "id": "governing-liberia",
   "metadata": {},
   "outputs": [],
   "source": [
    "# Import dependencies\n",
    "import os\n",
    "from bs4 import BeautifulSoup as bs\n",
    "import requests\n",
    "import pymongo\n",
    "import time\n",
    "import pandas as pd\n",
    "from splinter import Browser\n",
    "from webdriver_manager.chrome import ChromeDriverManager"
   ]
  },
  {
   "cell_type": "code",
   "execution_count": 2,
   "id": "pending-beverage",
   "metadata": {},
   "outputs": [],
   "source": [
    "# Initialize PyMongo to work with MongoDBs\n",
    "# conn = 'mongodb://localhost:27017'\n",
    "# client = pymongo.MongoClient(conn)\n",
    "\n",
    "# Define the 'classDB' database in Mongo\n",
    "# db = client.marsDB\n"
   ]
  },
  {
   "cell_type": "code",
   "execution_count": 3,
   "id": "synthetic-marshall",
   "metadata": {},
   "outputs": [],
   "source": [
    "# Initialize browser\n",
    "def init_browser():\n",
    "    #executable_path = {'executable_path': ChromeDriverManager().install()}\n",
    "    #executable_path = {'exeutable_path': \"C:/Users/serenabaker/chromedriver_win32/chromedriver\"}\n",
    "    executable_path = {'exeutable_path': \"C:/Users/serenabaker/.wdm/drivers/chromedriver/mac64/89.0.4389.23/chromedriver\"}\n",
    "\n",
    "    return Browser('chrome', **executable_path, headless=False)"
   ]
  },
  {
   "cell_type": "code",
   "execution_count": 4,
   "id": "german-technical",
   "metadata": {},
   "outputs": [],
   "source": [
    "# Retrieve page with the requests module\n",
    "#response = requests.get(url)\n",
    "# Create BeautifulSoup object; parse with 'lxml'\n",
    "#soup = BeautifulSoup(response.text, 'lxml')\n",
    "# Create a Beautiful Soup object\n",
    "#soup = bs(html, 'lxml')\n",
    "# Create BeautifulSoup object; parse with 'html.parser'\n",
    "#soup = bs(response.text, 'html.parser')"
   ]
  },
  {
   "cell_type": "code",
   "execution_count": 5,
   "id": "distinguished-professional",
   "metadata": {},
   "outputs": [
    {
     "ename": "NameError",
     "evalue": "name 'news_soup' is not defined",
     "output_type": "error",
     "traceback": [
      "\u001b[0;31m---------------------------------------------------------------------------\u001b[0m",
      "\u001b[0;31mNameError\u001b[0m                                 Traceback (most recent call last)",
      "\u001b[0;32m<ipython-input-5-db4c9b5f39bc>\u001b[0m in \u001b[0;36m<module>\u001b[0;34m\u001b[0m\n\u001b[1;32m     14\u001b[0m     \u001b[0mnews_soup\u001b[0m \u001b[0;34m=\u001b[0m \u001b[0mbs\u001b[0m\u001b[0;34m(\u001b[0m\u001b[0mnews_html\u001b[0m\u001b[0;34m,\u001b[0m \u001b[0;34m\"html.parser\"\u001b[0m\u001b[0;34m)\u001b[0m\u001b[0;34m\u001b[0m\u001b[0;34m\u001b[0m\u001b[0m\n\u001b[1;32m     15\u001b[0m     \u001b[0;31m#html = requests.get(url).text\u001b[0m\u001b[0;34m\u001b[0m\u001b[0;34m\u001b[0m\u001b[0;34m\u001b[0m\u001b[0m\n\u001b[0;32m---> 16\u001b[0;31m \u001b[0mprint\u001b[0m\u001b[0;34m(\u001b[0m\u001b[0mnews_soup\u001b[0m\u001b[0;34m)\u001b[0m\u001b[0;34m\u001b[0m\u001b[0;34m\u001b[0m\u001b[0m\n\u001b[0m",
      "\u001b[0;31mNameError\u001b[0m: name 'news_soup' is not defined"
     ]
    }
   ],
   "source": [
    "def scrape_info():\n",
    "    browser = init_browser()\n",
    "    # URL of page to be scraped\n",
    "    news_url = \"https://mars.nasa.gov/news\"\n",
    "    browser.visit(news_url)\n",
    "    # Sleep function\n",
    "    time.sleep(3)\n",
    "    \n",
    "    #response = requests.get(url)\n",
    "    \n",
    "    # Scrape page into Soup\n",
    "    #html = browser.html\n",
    "    news_html = browser.html\n",
    "    news_soup = bs(news_html, \"html.parser\")\n",
    "    #html = requests.get(url).text\n",
    "print(news_soup)"
   ]
  },
  {
   "cell_type": "code",
   "execution_count": null,
   "id": "broken-allah",
   "metadata": {},
   "outputs": [],
   "source": [
    "# Scrape NASA Mars News Site and collect latest News Tiltle and Paragraph Text, assign to variables\n",
    "\n",
    "# news_title = \"NASA's Curiosity Team Names Martian Hill That Serves as Mission ‘Gateway'\"\n",
    "# news_p = \"The name honors recently deceased mission scientist Rafael Navarro-González, who helped lead the team that identified ancient organic compounds on Mars\"\n",
    "\n",
    "news_title = news_soup.find_all('div', class_=\"content_title\")[0].text\n",
    "#news_p = news_soup.find_all('div', class='article_teaser_body')[0].text\n",
    "\n",
    "print(news_title)\n",
    "#print(news_p)\n"
   ]
  },
  {
   "cell_type": "code",
   "execution_count": null,
   "id": "buried-coupon",
   "metadata": {},
   "outputs": [],
   "source": [
    "# Close browser after scraping\n",
    "browser.quit()"
   ]
  },
  {
   "cell_type": "code",
   "execution_count": null,
   "id": "physical-snapshot",
   "metadata": {},
   "outputs": [],
   "source": [
    "#return news_title\n",
    "#return news_p"
   ]
  }
 ],
 "metadata": {
  "kernelspec": {
   "display_name": "Python 3",
   "language": "python",
   "name": "python3"
  },
  "language_info": {
   "codemirror_mode": {
    "name": "ipython",
    "version": 3
   },
   "file_extension": ".py",
   "mimetype": "text/x-python",
   "name": "python",
   "nbconvert_exporter": "python",
   "pygments_lexer": "ipython3",
   "version": "3.6.10"
  }
 },
 "nbformat": 4,
 "nbformat_minor": 5
}
